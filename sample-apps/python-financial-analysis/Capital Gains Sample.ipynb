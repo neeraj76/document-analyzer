{
 "cells": [
  {
   "cell_type": "code",
   "execution_count": 1,
   "metadata": {},
   "outputs": [
    {
     "name": "stdout",
     "output_type": "stream",
     "text": [
      "Collecting capital-gains\n",
      "  Downloading capital_gains-1.0.5-py3-none-any.whl (7.9 kB)\n",
      "Installing collected packages: capital-gains\n",
      "Successfully installed capital-gains-1.0.5\n"
     ]
    }
   ],
   "source": [
    "# https://github.com/nkouevda/capital-gains\n",
    "!pip install capital-gains"
   ]
  },
  {
   "cell_type": "code",
   "execution_count": 5,
   "metadata": {},
   "outputs": [],
   "source": [
    "# Download https://github.com/nkouevda/capital-gains/blob/master/input/example.csv\n",
    "!capital-gains -t example.csv > example.txt"
   ]
  },
  {
   "cell_type": "code",
   "execution_count": 6,
   "metadata": {},
   "outputs": [
    {
     "name": "stdout",
     "output_type": "stream",
     "text": [
      "# Closed lots\r\n",
      "\r\n",
      "symbol |   name | shares |   acquired |       sold | proceeds | cost basis | wash sale |  gain\r\n",
      "  ASDF | lot 01 |    100 | 2018-01-01 | 2018-01-03 |     1498 |       1000 |         0 |   498\r\n",
      "  ASDF | lot 02 |    100 | 2018-01-02 | 2018-01-03 |     1498 |       1200 |         0 |   298\r\n",
      "  ASDF | lot 03 |    200 | 2018-01-04 | 2018-01-05 |     1995 |       4000 |      1003 | -1003\r\n",
      "  ASDF | lot 04 |     50 | 2018-01-06 | 2018-01-07 |      745 |       1101 |         0 |  -356\r\n",
      "\r\n",
      "# Closed totals\r\n",
      "\r\n",
      "sold | symbol | shares | proceeds | cost basis | gain\r\n",
      "2018 |   ASDF |    450 |     5735 |       7301 | -564\r\n",
      "\r\n",
      "# Open lots\r\n",
      "\r\n",
      "symbol |   name | shares |   acquired | cost basis\r\n",
      "  ASDF | lot 04 |     50 | 2018-01-06 |       1101\r\n",
      "\r\n",
      "# Open totals\r\n",
      "\r\n",
      "symbol | shares | estimated proceeds | cost basis | estimated gain\r\n",
      "  ASDF |     50 |                600 |       1101 |           -501\r\n"
     ]
    }
   ],
   "source": [
    "!cat example.txt"
   ]
  },
  {
   "cell_type": "code",
   "execution_count": null,
   "metadata": {},
   "outputs": [],
   "source": []
  }
 ],
 "metadata": {
  "kernelspec": {
   "display_name": "Python 3",
   "language": "python",
   "name": "python3"
  },
  "language_info": {
   "codemirror_mode": {
    "name": "ipython",
    "version": 3
   },
   "file_extension": ".py",
   "mimetype": "text/x-python",
   "name": "python",
   "nbconvert_exporter": "python",
   "pygments_lexer": "ipython3",
   "version": "3.7.6"
  }
 },
 "nbformat": 4,
 "nbformat_minor": 4
}
